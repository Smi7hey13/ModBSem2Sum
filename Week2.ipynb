{
 "cells": [
  {
   "cell_type": "markdown",
   "id": "5190b54c-d49c-4d6f-80cc-22555336a9cd",
   "metadata": {},
   "source": [
    "# Week 2 - Preprocessing, part 2\n",
    "\n",
    "# 1. Lesson: None"
   ]
  },
  {
   "cell_type": "markdown",
   "id": "47c4e5ff-b05f-4ef2-96f1-49dcb5beb158",
   "metadata": {},
   "source": [
    "# 2. Weekly graph question"
   ]
  },
  {
   "cell_type": "markdown",
   "id": "aad37e29-6e84-41fa-886d-abc1312213ab",
   "metadata": {},
   "source": [
    "The Storytelling With Data book mentions planning on a \"Who, What, and How\" for your data story.  Write down a possible Who, What, and How for your data, using the ideas in the book."
   ]
  },
  {
   "cell_type": "markdown",
   "id": "fffd3e7f",
   "metadata": {},
   "source": [
    "## 1) Data Marketing\n",
    "#### 1) Who\n",
    "Advertisers and marketing managers need actionable insights to refine their digital strategies, and this dataset helps identify key performance drivers. \n",
    "#### 2) What\n",
    "By analyzing CampaignChannel, ClickThroughRate, and ConversionRate, they can determine which platforms yield the highest engagement and reallocate ad budgets accordingly. Understanding customer behaviors—such as WebsiteVisits, TimeOnSite, and SocialShares—enables them to craft more compelling marketing content that resonates with their target audience. \n",
    "#### 3) How\n",
    "Using AdSpend vs. ConversionRate as a benchmark, marketers can assess ROI and make data-driven decisions that optimize campaign effectiveness and drive revenue growth."
   ]
  },
  {
   "cell_type": "markdown",
   "id": "265825b5",
   "metadata": {},
   "source": [
    "## 2) Churn\n",
    "#### 1) What\n",
    "This dataset tracks customer demographics, engagement, financial behavior, and churn. It includes details like age, tenure, usage frequency, payment delays, and total spend. Businesses use it to improve retention, predict churn, and optimize pricing. Businesses can use this data to improve retention, predict churn, optimize pricing, and enhance customer service.\n",
    "\n",
    "#### 2) Who\n",
    "It benefits business analysts, marketers, data scientists, customer support, finance teams, product developers, and executives. Analysts segment customers, data scientists build predictive models, and support teams enhance service. Finance teams assess risks, product developers refine features, and executives make strategic decisions.\n",
    "\n",
    "#### 3) How\n",
    "Users analyze trends, apply machine learning, and visualize insights. Analysts group customers, data scientists predict churn, and support teams track interactions. Finance teams forecast revenue, product teams improve offerings, and executives refine strategies."
   ]
  },
  {
   "cell_type": "markdown",
   "id": "898eb327-aefd-4ac0-b95a-92b616a2181b",
   "metadata": {},
   "source": [
    "# 3. Homework - work with your own data"
   ]
  },
  {
   "cell_type": "code",
   "execution_count": 1,
   "id": "fe925521-979f-4983-8d85-8db8d1316e99",
   "metadata": {},
   "outputs": [],
   "source": [
    "import pandas as pd\n",
    "import numpy as np\n",
    "from datetime import datetime, timedelta"
   ]
  },
  {
   "cell_type": "markdown",
   "id": "14836788-b235-4cd4-b94d-5f749c6141a8",
   "metadata": {},
   "source": [
    "This week, you will do the same types of exercises as last week, but you should use your chosen datasets that someone in your class found last semester. (They likely will not be the particular datasets that you found yourself.)\n",
    "\n",
    "### Here are some types of analysis you can do  Use Google, documentation, and ChatGPT to help you:\n",
    "\n",
    "- Summarize the datasets using info() and describe()\n",
    "\n",
    "- Are there any duplicate rows?\n",
    "\n",
    "- Are there any duplicate values in a given column (when this would be inappropriate?)\n",
    "\n",
    "- What are the mean, median, and mode of each column?\n",
    "\n",
    "- Are there any missing or null values?\n",
    "\n",
    "    - Do you want to fill in the missing value with a mean value?  A value of your choice?  Remove that row?\n",
    "\n",
    "- Identify any other inconsistent data (e.g. someone seems to be taking an action before they are born.)\n",
    "\n",
    "- Encode any categorical variables (e.g. with one-hot encoding.)\n",
    "\n",
    "### Conclusions:\n",
    "\n",
    "- Are the data usable?  If not, find some new data!\n",
    "\n",
    "- Do you need to modify or correct the data in some way?\n",
    "\n",
    "- Is there any class imbalance?  (Categories that have many more items than other categories)."
   ]
  },
  {
   "cell_type": "markdown",
   "id": "01eac304",
   "metadata": {},
   "source": [
    "### 1 Digital Marketing"
   ]
  },
  {
   "cell_type": "code",
   "execution_count": 2,
   "id": "a6da0a7a",
   "metadata": {},
   "outputs": [
    {
     "data": {
      "text/html": [
       "<div>\n",
       "<style scoped>\n",
       "    .dataframe tbody tr th:only-of-type {\n",
       "        vertical-align: middle;\n",
       "    }\n",
       "\n",
       "    .dataframe tbody tr th {\n",
       "        vertical-align: top;\n",
       "    }\n",
       "\n",
       "    .dataframe thead th {\n",
       "        text-align: right;\n",
       "    }\n",
       "</style>\n",
       "<table border=\"1\" class=\"dataframe\">\n",
       "  <thead>\n",
       "    <tr style=\"text-align: right;\">\n",
       "      <th></th>\n",
       "      <th>CustomerID</th>\n",
       "      <th>Age</th>\n",
       "      <th>Gender</th>\n",
       "      <th>Income</th>\n",
       "      <th>CampaignChannel</th>\n",
       "      <th>CampaignType</th>\n",
       "      <th>AdSpend</th>\n",
       "      <th>ClickThroughRate</th>\n",
       "      <th>ConversionRate</th>\n",
       "      <th>WebsiteVisits</th>\n",
       "      <th>PagesPerVisit</th>\n",
       "      <th>TimeOnSite</th>\n",
       "      <th>SocialShares</th>\n",
       "      <th>EmailOpens</th>\n",
       "      <th>EmailClicks</th>\n",
       "      <th>PreviousPurchases</th>\n",
       "      <th>LoyaltyPoints</th>\n",
       "      <th>AdvertisingPlatform</th>\n",
       "      <th>AdvertisingTool</th>\n",
       "      <th>Conversion</th>\n",
       "    </tr>\n",
       "  </thead>\n",
       "  <tbody>\n",
       "    <tr>\n",
       "      <th>0</th>\n",
       "      <td>8000</td>\n",
       "      <td>56</td>\n",
       "      <td>Female</td>\n",
       "      <td>136912</td>\n",
       "      <td>Social Media</td>\n",
       "      <td>Awareness</td>\n",
       "      <td>6497.870068</td>\n",
       "      <td>0.043919</td>\n",
       "      <td>0.088031</td>\n",
       "      <td>0</td>\n",
       "      <td>2.399017</td>\n",
       "      <td>7.396803</td>\n",
       "      <td>19</td>\n",
       "      <td>6</td>\n",
       "      <td>9</td>\n",
       "      <td>4</td>\n",
       "      <td>688</td>\n",
       "      <td>IsConfid</td>\n",
       "      <td>ToolConfid</td>\n",
       "      <td>1</td>\n",
       "    </tr>\n",
       "    <tr>\n",
       "      <th>1</th>\n",
       "      <td>8001</td>\n",
       "      <td>69</td>\n",
       "      <td>Male</td>\n",
       "      <td>41760</td>\n",
       "      <td>Email</td>\n",
       "      <td>Retention</td>\n",
       "      <td>3898.668606</td>\n",
       "      <td>0.155725</td>\n",
       "      <td>0.182725</td>\n",
       "      <td>42</td>\n",
       "      <td>2.917138</td>\n",
       "      <td>5.352549</td>\n",
       "      <td>5</td>\n",
       "      <td>2</td>\n",
       "      <td>7</td>\n",
       "      <td>2</td>\n",
       "      <td>3459</td>\n",
       "      <td>IsConfid</td>\n",
       "      <td>ToolConfid</td>\n",
       "      <td>1</td>\n",
       "    </tr>\n",
       "    <tr>\n",
       "      <th>2</th>\n",
       "      <td>8002</td>\n",
       "      <td>46</td>\n",
       "      <td>Female</td>\n",
       "      <td>88456</td>\n",
       "      <td>PPC</td>\n",
       "      <td>Awareness</td>\n",
       "      <td>1546.429596</td>\n",
       "      <td>0.277490</td>\n",
       "      <td>0.076423</td>\n",
       "      <td>2</td>\n",
       "      <td>8.223619</td>\n",
       "      <td>13.794901</td>\n",
       "      <td>0</td>\n",
       "      <td>11</td>\n",
       "      <td>2</td>\n",
       "      <td>8</td>\n",
       "      <td>2337</td>\n",
       "      <td>IsConfid</td>\n",
       "      <td>ToolConfid</td>\n",
       "      <td>1</td>\n",
       "    </tr>\n",
       "    <tr>\n",
       "      <th>3</th>\n",
       "      <td>8003</td>\n",
       "      <td>32</td>\n",
       "      <td>Female</td>\n",
       "      <td>44085</td>\n",
       "      <td>PPC</td>\n",
       "      <td>Conversion</td>\n",
       "      <td>539.525936</td>\n",
       "      <td>0.137611</td>\n",
       "      <td>0.088004</td>\n",
       "      <td>47</td>\n",
       "      <td>4.540939</td>\n",
       "      <td>14.688363</td>\n",
       "      <td>89</td>\n",
       "      <td>2</td>\n",
       "      <td>2</td>\n",
       "      <td>0</td>\n",
       "      <td>2463</td>\n",
       "      <td>IsConfid</td>\n",
       "      <td>ToolConfid</td>\n",
       "      <td>1</td>\n",
       "    </tr>\n",
       "    <tr>\n",
       "      <th>4</th>\n",
       "      <td>8004</td>\n",
       "      <td>60</td>\n",
       "      <td>Female</td>\n",
       "      <td>83964</td>\n",
       "      <td>PPC</td>\n",
       "      <td>Conversion</td>\n",
       "      <td>1678.043573</td>\n",
       "      <td>0.252851</td>\n",
       "      <td>0.109940</td>\n",
       "      <td>0</td>\n",
       "      <td>2.046847</td>\n",
       "      <td>13.993370</td>\n",
       "      <td>6</td>\n",
       "      <td>6</td>\n",
       "      <td>6</td>\n",
       "      <td>8</td>\n",
       "      <td>4345</td>\n",
       "      <td>IsConfid</td>\n",
       "      <td>ToolConfid</td>\n",
       "      <td>1</td>\n",
       "    </tr>\n",
       "  </tbody>\n",
       "</table>\n",
       "</div>"
      ],
      "text/plain": [
       "   CustomerID  Age  Gender  Income CampaignChannel CampaignType      AdSpend  \\\n",
       "0        8000   56  Female  136912    Social Media    Awareness  6497.870068   \n",
       "1        8001   69    Male   41760           Email    Retention  3898.668606   \n",
       "2        8002   46  Female   88456             PPC    Awareness  1546.429596   \n",
       "3        8003   32  Female   44085             PPC   Conversion   539.525936   \n",
       "4        8004   60  Female   83964             PPC   Conversion  1678.043573   \n",
       "\n",
       "   ClickThroughRate  ConversionRate  WebsiteVisits  PagesPerVisit  TimeOnSite  \\\n",
       "0          0.043919        0.088031              0       2.399017    7.396803   \n",
       "1          0.155725        0.182725             42       2.917138    5.352549   \n",
       "2          0.277490        0.076423              2       8.223619   13.794901   \n",
       "3          0.137611        0.088004             47       4.540939   14.688363   \n",
       "4          0.252851        0.109940              0       2.046847   13.993370   \n",
       "\n",
       "   SocialShares  EmailOpens  EmailClicks  PreviousPurchases  LoyaltyPoints  \\\n",
       "0            19           6            9                  4            688   \n",
       "1             5           2            7                  2           3459   \n",
       "2             0          11            2                  8           2337   \n",
       "3            89           2            2                  0           2463   \n",
       "4             6           6            6                  8           4345   \n",
       "\n",
       "  AdvertisingPlatform AdvertisingTool  Conversion  \n",
       "0            IsConfid      ToolConfid           1  \n",
       "1            IsConfid      ToolConfid           1  \n",
       "2            IsConfid      ToolConfid           1  \n",
       "3            IsConfid      ToolConfid           1  \n",
       "4            IsConfid      ToolConfid           1  "
      ]
     },
     "execution_count": 2,
     "metadata": {},
     "output_type": "execute_result"
    }
   ],
   "source": [
    "digital = pd.read_csv(\"digital_marketing_campaign_dataset.csv\")\n",
    "digital.head()"
   ]
  },
  {
   "cell_type": "code",
   "execution_count": 3,
   "id": "c39129c2",
   "metadata": {},
   "outputs": [
    {
     "name": "stdout",
     "output_type": "stream",
     "text": [
      "Dataset Info:\n",
      "<class 'pandas.core.frame.DataFrame'>\n",
      "RangeIndex: 8000 entries, 0 to 7999\n",
      "Data columns (total 20 columns):\n",
      " #   Column               Non-Null Count  Dtype  \n",
      "---  ------               --------------  -----  \n",
      " 0   CustomerID           8000 non-null   int64  \n",
      " 1   Age                  8000 non-null   int64  \n",
      " 2   Gender               8000 non-null   object \n",
      " 3   Income               8000 non-null   int64  \n",
      " 4   CampaignChannel      8000 non-null   object \n",
      " 5   CampaignType         8000 non-null   object \n",
      " 6   AdSpend              8000 non-null   float64\n",
      " 7   ClickThroughRate     8000 non-null   float64\n",
      " 8   ConversionRate       8000 non-null   float64\n",
      " 9   WebsiteVisits        8000 non-null   int64  \n",
      " 10  PagesPerVisit        8000 non-null   float64\n",
      " 11  TimeOnSite           8000 non-null   float64\n",
      " 12  SocialShares         8000 non-null   int64  \n",
      " 13  EmailOpens           8000 non-null   int64  \n",
      " 14  EmailClicks          8000 non-null   int64  \n",
      " 15  PreviousPurchases    8000 non-null   int64  \n",
      " 16  LoyaltyPoints        8000 non-null   int64  \n",
      " 17  AdvertisingPlatform  8000 non-null   object \n",
      " 18  AdvertisingTool      8000 non-null   object \n",
      " 19  Conversion           8000 non-null   int64  \n",
      "dtypes: float64(5), int64(10), object(5)\n",
      "memory usage: 1.2+ MB\n",
      "\n",
      "Dataset Description:\n",
      "        CustomerID          Age         Income      AdSpend  ClickThroughRate  \\\n",
      "count   8000.00000  8000.000000    8000.000000  8000.000000       8000.000000   \n",
      "mean   11999.50000    43.625500   84664.196750  5000.944830          0.154829   \n",
      "std     2309.54541    14.902785   37580.387945  2838.038153          0.084007   \n",
      "min     8000.00000    18.000000   20014.000000   100.054813          0.010005   \n",
      "25%     9999.75000    31.000000   51744.500000  2523.221165          0.082635   \n",
      "50%    11999.50000    43.000000   84926.500000  5013.440044          0.154505   \n",
      "75%    13999.25000    56.000000  116815.750000  7407.989369          0.228207   \n",
      "max    15999.00000    69.000000  149986.000000  9997.914781          0.299968   \n",
      "\n",
      "       ConversionRate  WebsiteVisits  PagesPerVisit   TimeOnSite  \\\n",
      "count     8000.000000    8000.000000    8000.000000  8000.000000   \n",
      "mean         0.104389      24.751625       5.549299     7.727718   \n",
      "std          0.054878      14.312269       2.607358     4.228218   \n",
      "min          0.010018       0.000000       1.000428     0.501669   \n",
      "25%          0.056410      13.000000       3.302479     4.068340   \n",
      "50%          0.104046      25.000000       5.534257     7.682956   \n",
      "75%          0.152077      37.000000       7.835756    11.481468   \n",
      "max          0.199995      49.000000       9.999055    14.995311   \n",
      "\n",
      "       SocialShares   EmailOpens  EmailClicks  PreviousPurchases  \\\n",
      "count   8000.000000  8000.000000  8000.000000        8000.000000   \n",
      "mean      49.799750     9.476875     4.467375           4.485500   \n",
      "std       28.901165     5.711111     2.856564           2.888093   \n",
      "min        0.000000     0.000000     0.000000           0.000000   \n",
      "25%       25.000000     5.000000     2.000000           2.000000   \n",
      "50%       50.000000     9.000000     4.000000           4.000000   \n",
      "75%       75.000000    14.000000     7.000000           7.000000   \n",
      "max       99.000000    19.000000     9.000000           9.000000   \n",
      "\n",
      "       LoyaltyPoints   Conversion  \n",
      "count    8000.000000  8000.000000  \n",
      "mean     2490.268500     0.876500  \n",
      "std      1429.527162     0.329031  \n",
      "min         0.000000     0.000000  \n",
      "25%      1254.750000     1.000000  \n",
      "50%      2497.000000     1.000000  \n",
      "75%      3702.250000     1.000000  \n",
      "max      4999.000000     1.000000  \n"
     ]
    }
   ],
   "source": [
    "# Summarize the dataset\n",
    "print(\"Dataset Info:\")\n",
    "digital.info()\n",
    "print(\"\\nDataset Description:\")\n",
    "print(digital.describe())"
   ]
  },
  {
   "cell_type": "code",
   "execution_count": 4,
   "id": "268312f0",
   "metadata": {},
   "outputs": [
    {
     "name": "stdout",
     "output_type": "stream",
     "text": [
      "\n",
      "Number of duplicate rows: 0\n"
     ]
    }
   ],
   "source": [
    "# Check for duplicate rows\n",
    "duplicate_rows = digital.duplicated().sum()\n",
    "print(f\"\\nNumber of duplicate rows: {duplicate_rows}\")"
   ]
  },
  {
   "cell_type": "code",
   "execution_count": 5,
   "id": "528d9c97",
   "metadata": {},
   "outputs": [
    {
     "name": "stdout",
     "output_type": "stream",
     "text": [
      "Column 'Age' has 7948 duplicate values.\n",
      "Column 'Gender' has 7998 duplicate values.\n",
      "Column 'Income' has 211 duplicate values.\n",
      "Column 'CampaignChannel' has 7995 duplicate values.\n",
      "Column 'CampaignType' has 7996 duplicate values.\n",
      "Column 'WebsiteVisits' has 7950 duplicate values.\n",
      "Column 'SocialShares' has 7900 duplicate values.\n",
      "Column 'EmailOpens' has 7980 duplicate values.\n",
      "Column 'EmailClicks' has 7990 duplicate values.\n",
      "Column 'PreviousPurchases' has 7990 duplicate values.\n",
      "Column 'LoyaltyPoints' has 4017 duplicate values.\n",
      "Column 'AdvertisingPlatform' has 7999 duplicate values.\n",
      "Column 'AdvertisingTool' has 7999 duplicate values.\n",
      "Column 'Conversion' has 7998 duplicate values.\n"
     ]
    }
   ],
   "source": [
    "# Check for duplicate values in specific columns (modify as needed)\n",
    "for column in digital.columns:\n",
    "    if digital[column].duplicated().sum() > 0:\n",
    "        print(f\"Column '{column}' has {digital[column].duplicated().sum()} duplicate values.\")"
   ]
  },
  {
   "cell_type": "code",
   "execution_count": 6,
   "id": "167ffdda",
   "metadata": {},
   "outputs": [
    {
     "name": "stdout",
     "output_type": "stream",
     "text": [
      "\n",
      "Mean values:\n",
      "CustomerID           11999.500000\n",
      "Age                     43.625500\n",
      "Income               84664.196750\n",
      "AdSpend               5000.944830\n",
      "ClickThroughRate         0.154829\n",
      "ConversionRate           0.104389\n",
      "WebsiteVisits           24.751625\n",
      "PagesPerVisit            5.549299\n",
      "TimeOnSite               7.727718\n",
      "SocialShares            49.799750\n",
      "EmailOpens               9.476875\n",
      "EmailClicks              4.467375\n",
      "PreviousPurchases        4.485500\n",
      "LoyaltyPoints         2490.268500\n",
      "Conversion               0.876500\n",
      "dtype: float64\n",
      "\n",
      "Median values:\n",
      "CustomerID           11999.500000\n",
      "Age                     43.000000\n",
      "Income               84926.500000\n",
      "AdSpend               5013.440044\n",
      "ClickThroughRate         0.154505\n",
      "ConversionRate           0.104046\n",
      "WebsiteVisits           25.000000\n",
      "PagesPerVisit            5.534257\n",
      "TimeOnSite               7.682956\n",
      "SocialShares            50.000000\n",
      "EmailOpens               9.000000\n",
      "EmailClicks              4.000000\n",
      "PreviousPurchases        4.000000\n",
      "LoyaltyPoints         2497.000000\n",
      "Conversion               1.000000\n",
      "dtype: float64\n",
      "\n",
      "Mode values:\n",
      "CustomerID                   8000\n",
      "Age                          64.0\n",
      "Gender                     Female\n",
      "Income                    50268.0\n",
      "CampaignChannel          Referral\n",
      "CampaignType           Conversion\n",
      "AdSpend                100.054813\n",
      "ClickThroughRate         0.010005\n",
      "ConversionRate           0.010018\n",
      "WebsiteVisits                25.0\n",
      "PagesPerVisit            1.000428\n",
      "TimeOnSite               0.501669\n",
      "SocialShares                 61.0\n",
      "EmailOpens                    9.0\n",
      "EmailClicks                   4.0\n",
      "PreviousPurchases             0.0\n",
      "LoyaltyPoints              1392.0\n",
      "AdvertisingPlatform      IsConfid\n",
      "AdvertisingTool        ToolConfid\n",
      "Conversion                    1.0\n",
      "Name: 0, dtype: object\n"
     ]
    }
   ],
   "source": [
    "# Calculate mean, median, and mode for each column\n",
    "print(\"\\nMean values:\")\n",
    "print(digital.mean(numeric_only=True))\n",
    "print(\"\\nMedian values:\")\n",
    "print(digital.median(numeric_only=True))\n",
    "print(\"\\nMode values:\")\n",
    "print(digital.mode().iloc[0])  # Mode can have multiple values, so we take the first row"
   ]
  },
  {
   "cell_type": "code",
   "execution_count": 7,
   "id": "1a9aeb7c",
   "metadata": {},
   "outputs": [
    {
     "name": "stdout",
     "output_type": "stream",
     "text": [
      "\n",
      "Missing values per column:\n",
      "CustomerID             0\n",
      "Age                    0\n",
      "Gender                 0\n",
      "Income                 0\n",
      "CampaignChannel        0\n",
      "CampaignType           0\n",
      "AdSpend                0\n",
      "ClickThroughRate       0\n",
      "ConversionRate         0\n",
      "WebsiteVisits          0\n",
      "PagesPerVisit          0\n",
      "TimeOnSite             0\n",
      "SocialShares           0\n",
      "EmailOpens             0\n",
      "EmailClicks            0\n",
      "PreviousPurchases      0\n",
      "LoyaltyPoints          0\n",
      "AdvertisingPlatform    0\n",
      "AdvertisingTool        0\n",
      "Conversion             0\n",
      "dtype: int64\n"
     ]
    }
   ],
   "source": [
    "# Check for missing/null values\n",
    "missing_values = digital.isnull().sum()\n",
    "print(\"\\nMissing values per column:\")\n",
    "print(missing_values)"
   ]
  },
  {
   "cell_type": "code",
   "execution_count": 8,
   "id": "9711f12f",
   "metadata": {},
   "outputs": [],
   "source": [
    "# Handle missing values (modify as needed)\n",
    "digital.fillna(digital.mean(numeric_only=True), inplace=True)  # Fill with mean values"
   ]
  },
  {
   "cell_type": "code",
   "execution_count": 9,
   "id": "6cdd7ee9",
   "metadata": {},
   "outputs": [],
   "source": [
    "# Identify inconsistent data (example: birth year after action date)\n",
    "if 'birth_year' in digital.columns and 'action_date' in digital.columns:\n",
    "    inconsistent_rows = digital[digital['birth_year'] > digital['action_date'].dt.year]\n",
    "    print(f\"\\nInconsistent data (action before birth): {len(inconsistent_rows)} rows\")"
   ]
  },
  {
   "cell_type": "code",
   "execution_count": 10,
   "id": "d0ed3e26",
   "metadata": {},
   "outputs": [],
   "source": [
    "# Encode categorical variables using one-hot encoding\n",
    "categorical_columns = digital.select_dtypes(include=['object']).columns\n",
    "digital_encoded = pd.get_dummies(digital, columns=categorical_columns)"
   ]
  },
  {
   "cell_type": "code",
   "execution_count": 11,
   "id": "fecefe57",
   "metadata": {},
   "outputs": [
    {
     "name": "stdout",
     "output_type": "stream",
     "text": [
      "\n",
      "Class distribution in 'Gender':\n",
      "Gender\n",
      "Female    4839\n",
      "Male      3161\n",
      "Name: count, dtype: int64\n",
      "\n",
      "Class distribution in 'CampaignChannel':\n",
      "CampaignChannel\n",
      "Referral        1719\n",
      "PPC             1655\n",
      "Email           1557\n",
      "SEO             1550\n",
      "Social Media    1519\n",
      "Name: count, dtype: int64\n",
      "\n",
      "Class distribution in 'CampaignType':\n",
      "CampaignType\n",
      "Conversion       2077\n",
      "Awareness        1988\n",
      "Consideration    1988\n",
      "Retention        1947\n",
      "Name: count, dtype: int64\n",
      "\n",
      "Class distribution in 'AdvertisingPlatform':\n",
      "AdvertisingPlatform\n",
      "IsConfid    8000\n",
      "Name: count, dtype: int64\n",
      "\n",
      "Class distribution in 'AdvertisingTool':\n",
      "AdvertisingTool\n",
      "ToolConfid    8000\n",
      "Name: count, dtype: int64\n"
     ]
    }
   ],
   "source": [
    "# Check for class imbalance\n",
    "for column in categorical_columns:\n",
    "    print(f\"\\nClass distribution in '{column}':\")\n",
    "    print(digital[column].value_counts())"
   ]
  },
  {
   "cell_type": "code",
   "execution_count": 12,
   "id": "9beeaf55",
   "metadata": {},
   "outputs": [
    {
     "name": "stdout",
     "output_type": "stream",
     "text": [
      "\n",
      "### Conclusions ###\n",
      "Data appears usable.\n"
     ]
    }
   ],
   "source": [
    "# Conclusions\n",
    "print(\"\\n### Conclusions ###\")\n",
    "if duplicate_rows > 0 or missing_values.sum() > 0:\n",
    "    print(\"Data needs cleaning and modification.\")\n",
    "else:\n",
    "    print(\"Data appears usable.\")"
   ]
  },
  {
   "cell_type": "code",
   "execution_count": null,
   "id": "733cc06a",
   "metadata": {},
   "outputs": [],
   "source": []
  },
  {
   "cell_type": "markdown",
   "id": "63851b09",
   "metadata": {},
   "source": [
    "#### 2 Churn"
   ]
  },
  {
   "cell_type": "code",
   "execution_count": 13,
   "id": "68fae768",
   "metadata": {},
   "outputs": [
    {
     "data": {
      "text/html": [
       "<div>\n",
       "<style scoped>\n",
       "    .dataframe tbody tr th:only-of-type {\n",
       "        vertical-align: middle;\n",
       "    }\n",
       "\n",
       "    .dataframe tbody tr th {\n",
       "        vertical-align: top;\n",
       "    }\n",
       "\n",
       "    .dataframe thead th {\n",
       "        text-align: right;\n",
       "    }\n",
       "</style>\n",
       "<table border=\"1\" class=\"dataframe\">\n",
       "  <thead>\n",
       "    <tr style=\"text-align: right;\">\n",
       "      <th></th>\n",
       "      <th>CustomerID</th>\n",
       "      <th>Age</th>\n",
       "      <th>Gender</th>\n",
       "      <th>Tenure</th>\n",
       "      <th>Usage Frequency</th>\n",
       "      <th>Support Calls</th>\n",
       "      <th>Payment Delay</th>\n",
       "      <th>Subscription Type</th>\n",
       "      <th>Contract Length</th>\n",
       "      <th>Total Spend</th>\n",
       "      <th>Last Interaction</th>\n",
       "      <th>Churn</th>\n",
       "    </tr>\n",
       "  </thead>\n",
       "  <tbody>\n",
       "    <tr>\n",
       "      <th>0</th>\n",
       "      <td>1.0</td>\n",
       "      <td>22.0</td>\n",
       "      <td>Female</td>\n",
       "      <td>25.0</td>\n",
       "      <td>14.0</td>\n",
       "      <td>4.0</td>\n",
       "      <td>27.0</td>\n",
       "      <td>Basic</td>\n",
       "      <td>Monthly</td>\n",
       "      <td>598.0</td>\n",
       "      <td>9.0</td>\n",
       "      <td>1.0</td>\n",
       "    </tr>\n",
       "    <tr>\n",
       "      <th>1</th>\n",
       "      <td>2.0</td>\n",
       "      <td>41.0</td>\n",
       "      <td>Female</td>\n",
       "      <td>28.0</td>\n",
       "      <td>28.0</td>\n",
       "      <td>7.0</td>\n",
       "      <td>13.0</td>\n",
       "      <td>Standard</td>\n",
       "      <td>Monthly</td>\n",
       "      <td>584.0</td>\n",
       "      <td>20.0</td>\n",
       "      <td>0.0</td>\n",
       "    </tr>\n",
       "    <tr>\n",
       "      <th>2</th>\n",
       "      <td>3.0</td>\n",
       "      <td>47.0</td>\n",
       "      <td>Male</td>\n",
       "      <td>27.0</td>\n",
       "      <td>10.0</td>\n",
       "      <td>2.0</td>\n",
       "      <td>29.0</td>\n",
       "      <td>Premium</td>\n",
       "      <td>Annual</td>\n",
       "      <td>757.0</td>\n",
       "      <td>21.0</td>\n",
       "      <td>0.0</td>\n",
       "    </tr>\n",
       "    <tr>\n",
       "      <th>3</th>\n",
       "      <td>4.0</td>\n",
       "      <td>35.0</td>\n",
       "      <td>Male</td>\n",
       "      <td>9.0</td>\n",
       "      <td>12.0</td>\n",
       "      <td>5.0</td>\n",
       "      <td>17.0</td>\n",
       "      <td>Premium</td>\n",
       "      <td>Quarterly</td>\n",
       "      <td>232.0</td>\n",
       "      <td>18.0</td>\n",
       "      <td>0.0</td>\n",
       "    </tr>\n",
       "    <tr>\n",
       "      <th>4</th>\n",
       "      <td>5.0</td>\n",
       "      <td>53.0</td>\n",
       "      <td>Female</td>\n",
       "      <td>58.0</td>\n",
       "      <td>24.0</td>\n",
       "      <td>9.0</td>\n",
       "      <td>2.0</td>\n",
       "      <td>Standard</td>\n",
       "      <td>Annual</td>\n",
       "      <td>533.0</td>\n",
       "      <td>18.0</td>\n",
       "      <td>0.0</td>\n",
       "    </tr>\n",
       "  </tbody>\n",
       "</table>\n",
       "</div>"
      ],
      "text/plain": [
       "   CustomerID   Age  Gender  Tenure  Usage Frequency  Support Calls  \\\n",
       "0         1.0  22.0  Female    25.0             14.0            4.0   \n",
       "1         2.0  41.0  Female    28.0             28.0            7.0   \n",
       "2         3.0  47.0    Male    27.0             10.0            2.0   \n",
       "3         4.0  35.0    Male     9.0             12.0            5.0   \n",
       "4         5.0  53.0  Female    58.0             24.0            9.0   \n",
       "\n",
       "   Payment Delay Subscription Type Contract Length  Total Spend  \\\n",
       "0           27.0             Basic         Monthly        598.0   \n",
       "1           13.0          Standard         Monthly        584.0   \n",
       "2           29.0           Premium          Annual        757.0   \n",
       "3           17.0           Premium       Quarterly        232.0   \n",
       "4            2.0          Standard          Annual        533.0   \n",
       "\n",
       "   Last Interaction  Churn  \n",
       "0               9.0    1.0  \n",
       "1              20.0    0.0  \n",
       "2              21.0    0.0  \n",
       "3              18.0    0.0  \n",
       "4              18.0    0.0  "
      ]
     },
     "execution_count": 13,
     "metadata": {},
     "output_type": "execute_result"
    }
   ],
   "source": [
    "df = pd.read_csv(\"customer_churn_dataset-master.csv\")\n",
    "df.head()"
   ]
  },
  {
   "cell_type": "code",
   "execution_count": 14,
   "id": "f0f4bbc8",
   "metadata": {},
   "outputs": [
    {
     "name": "stdout",
     "output_type": "stream",
     "text": [
      "Dataset Info:\n",
      "<class 'pandas.core.frame.DataFrame'>\n",
      "RangeIndex: 505207 entries, 0 to 505206\n",
      "Data columns (total 12 columns):\n",
      " #   Column             Non-Null Count   Dtype  \n",
      "---  ------             --------------   -----  \n",
      " 0   CustomerID         505206 non-null  float64\n",
      " 1   Age                505206 non-null  float64\n",
      " 2   Gender             505206 non-null  object \n",
      " 3   Tenure             505206 non-null  float64\n",
      " 4   Usage Frequency    505206 non-null  float64\n",
      " 5   Support Calls      505206 non-null  float64\n",
      " 6   Payment Delay      505206 non-null  float64\n",
      " 7   Subscription Type  505206 non-null  object \n",
      " 8   Contract Length    505206 non-null  object \n",
      " 9   Total Spend        505206 non-null  float64\n",
      " 10  Last Interaction   505206 non-null  float64\n",
      " 11  Churn              505206 non-null  float64\n",
      "dtypes: float64(9), object(3)\n",
      "memory usage: 46.3+ MB\n",
      "\n",
      "Dataset Description:\n",
      "          CustomerID            Age         Tenure  Usage Frequency  \\\n",
      "count  505206.000000  505206.000000  505206.000000    505206.000000   \n",
      "mean   200779.451782      39.704172      31.350435        15.714825   \n",
      "std    137241.343095      12.670577      17.237482         8.619323   \n",
      "min         1.000000      18.000000       1.000000         1.000000   \n",
      "25%     63827.250000      29.000000      16.000000         8.000000   \n",
      "50%    193039.500000      40.000000      32.000000        16.000000   \n",
      "75%    321645.750000      49.000000      46.000000        23.000000   \n",
      "max    449999.000000      65.000000      60.000000        30.000000   \n",
      "\n",
      "       Support Calls  Payment Delay    Total Spend  Last Interaction  \\\n",
      "count  505206.000000  505206.000000  505206.000000     505206.000000   \n",
      "mean        3.833317      13.496843     620.072766         14.610581   \n",
      "std         3.133603       8.451187     245.319256          8.608286   \n",
      "min         0.000000       0.000000     100.000000          1.000000   \n",
      "25%         1.000000       6.000000     446.000000          7.000000   \n",
      "50%         3.000000      13.000000     648.900000         14.000000   \n",
      "75%         6.000000      20.000000     824.000000         22.000000   \n",
      "max        10.000000      30.000000    1000.000000         30.000000   \n",
      "\n",
      "               Churn  \n",
      "count  505206.000000  \n",
      "mean        0.555203  \n",
      "std         0.496944  \n",
      "min         0.000000  \n",
      "25%         0.000000  \n",
      "50%         1.000000  \n",
      "75%         1.000000  \n",
      "max         1.000000  \n"
     ]
    }
   ],
   "source": [
    "# Summarize the dataset\n",
    "print(\"Dataset Info:\")\n",
    "df.info()\n",
    "print(\"\\nDataset Description:\")\n",
    "print(df.describe())"
   ]
  },
  {
   "cell_type": "code",
   "execution_count": 15,
   "id": "de2d3ba3",
   "metadata": {},
   "outputs": [
    {
     "name": "stdout",
     "output_type": "stream",
     "text": [
      "\n",
      "Number of duplicate rows: 0\n"
     ]
    }
   ],
   "source": [
    "# Check for duplicate rows\n",
    "duplicate_rows = df.duplicated().sum()\n",
    "print(f\"\\nNumber of duplicate rows: {duplicate_rows}\")"
   ]
  },
  {
   "cell_type": "code",
   "execution_count": 16,
   "id": "c45f0a2f",
   "metadata": {},
   "outputs": [
    {
     "name": "stdout",
     "output_type": "stream",
     "text": [
      "Column 'CustomerID' has 62995 duplicate values.\n",
      "Column 'Age' has 505158 duplicate values.\n",
      "Column 'Gender' has 505204 duplicate values.\n",
      "Column 'Tenure' has 505146 duplicate values.\n",
      "Column 'Usage Frequency' has 505176 duplicate values.\n",
      "Column 'Support Calls' has 505195 duplicate values.\n",
      "Column 'Payment Delay' has 505175 duplicate values.\n",
      "Column 'Subscription Type' has 505203 duplicate values.\n",
      "Column 'Contract Length' has 505203 duplicate values.\n",
      "Column 'Total Spend' has 436843 duplicate values.\n",
      "Column 'Last Interaction' has 505176 duplicate values.\n",
      "Column 'Churn' has 505204 duplicate values.\n"
     ]
    }
   ],
   "source": [
    "# Check for duplicate values in specific columns (modify as needed)\n",
    "for column in df.columns:\n",
    "    if df[column].duplicated().sum() > 0:\n",
    "        print(f\"Column '{column}' has {df[column].duplicated().sum()} duplicate values.\")"
   ]
  },
  {
   "cell_type": "code",
   "execution_count": 17,
   "id": "800bdd1d",
   "metadata": {},
   "outputs": [
    {
     "name": "stdout",
     "output_type": "stream",
     "text": [
      "\n",
      "Mean values:\n",
      "CustomerID          200779.451782\n",
      "Age                     39.704172\n",
      "Tenure                  31.350435\n",
      "Usage Frequency         15.714825\n",
      "Support Calls            3.833317\n",
      "Payment Delay           13.496843\n",
      "Total Spend            620.072766\n",
      "Last Interaction        14.610581\n",
      "Churn                    0.555203\n",
      "dtype: float64\n",
      "\n",
      "Median values:\n",
      "CustomerID          193039.5\n",
      "Age                     40.0\n",
      "Tenure                  32.0\n",
      "Usage Frequency         16.0\n",
      "Support Calls            3.0\n",
      "Payment Delay           13.0\n",
      "Total Spend            648.9\n",
      "Last Interaction        14.0\n",
      "Churn                    1.0\n",
      "dtype: float64\n",
      "\n",
      "Mode values:\n",
      "CustomerID                2.0\n",
      "Age                      50.0\n",
      "Gender                   Male\n",
      "Tenure                   49.0\n",
      "Usage Frequency          11.0\n",
      "Support Calls             0.0\n",
      "Payment Delay            20.0\n",
      "Subscription Type    Standard\n",
      "Contract Length        Annual\n",
      "Total Spend             234.0\n",
      "Last Interaction          7.0\n",
      "Churn                     1.0\n",
      "Name: 0, dtype: object\n"
     ]
    }
   ],
   "source": [
    "# Calculate mean, median, and mode for each column\n",
    "print(\"\\nMean values:\")\n",
    "print(df.mean(numeric_only=True))\n",
    "print(\"\\nMedian values:\")\n",
    "print(df.median(numeric_only=True))\n",
    "print(\"\\nMode values:\")\n",
    "print(df.mode().iloc[0])  # Mode can have multiple values, so we take the first row"
   ]
  },
  {
   "cell_type": "code",
   "execution_count": 18,
   "id": "a9846e8d",
   "metadata": {},
   "outputs": [
    {
     "name": "stdout",
     "output_type": "stream",
     "text": [
      "\n",
      "Missing values per column:\n",
      "CustomerID           1\n",
      "Age                  1\n",
      "Gender               1\n",
      "Tenure               1\n",
      "Usage Frequency      1\n",
      "Support Calls        1\n",
      "Payment Delay        1\n",
      "Subscription Type    1\n",
      "Contract Length      1\n",
      "Total Spend          1\n",
      "Last Interaction     1\n",
      "Churn                1\n",
      "dtype: int64\n"
     ]
    }
   ],
   "source": [
    "# Check for missing/null values\n",
    "missing_values = df.isnull().sum()\n",
    "print(\"\\nMissing values per column:\")\n",
    "print(missing_values)"
   ]
  },
  {
   "cell_type": "code",
   "execution_count": 19,
   "id": "2ac2db62",
   "metadata": {},
   "outputs": [],
   "source": [
    "# Handle missing values (modify as needed)\n",
    "df.fillna(df.mean(numeric_only=True), inplace=True)  # Fill with mean values"
   ]
  },
  {
   "cell_type": "code",
   "execution_count": 20,
   "id": "a8947448",
   "metadata": {},
   "outputs": [],
   "source": [
    "# Identify inconsistent data (example: birth year after action date)\n",
    "if 'birth_year' in df.columns and 'action_date' in df.columns:\n",
    "    inconsistent_rows = df[df['birth_year'] > df['action_date'].dt.year]\n",
    "    print(f\"\\nInconsistent data (action before birth): {len(inconsistent_rows)} rows\")"
   ]
  },
  {
   "cell_type": "code",
   "execution_count": 21,
   "id": "df2d8ed4",
   "metadata": {},
   "outputs": [],
   "source": [
    "# Encode categorical variables using one-hot encoding\n",
    "categorical_columns = df.select_dtypes(include=['object']).columns\n",
    "df_encoded = pd.get_dummies(df, columns=categorical_columns)"
   ]
  },
  {
   "cell_type": "code",
   "execution_count": 22,
   "id": "6a3a4132",
   "metadata": {},
   "outputs": [
    {
     "name": "stdout",
     "output_type": "stream",
     "text": [
      "\n",
      "Class distribution in 'Gender':\n",
      "Gender\n",
      "Male      280273\n",
      "Female    224933\n",
      "Name: count, dtype: int64\n",
      "\n",
      "Class distribution in 'Subscription Type':\n",
      "Subscription Type\n",
      "Standard    170630\n",
      "Premium     170099\n",
      "Basic       164477\n",
      "Name: count, dtype: int64\n",
      "\n",
      "Class distribution in 'Contract Length':\n",
      "Contract Length\n",
      "Annual       198608\n",
      "Quarterly    197364\n",
      "Monthly      109234\n",
      "Name: count, dtype: int64\n"
     ]
    }
   ],
   "source": [
    "# Check for class imbalance\n",
    "for column in categorical_columns:\n",
    "    print(f\"\\nClass distribution in '{column}':\")\n",
    "    print(df[column].value_counts())"
   ]
  },
  {
   "cell_type": "code",
   "execution_count": 23,
   "id": "5a01e08d",
   "metadata": {},
   "outputs": [
    {
     "name": "stdout",
     "output_type": "stream",
     "text": [
      "\n",
      "### Conclusions ###\n",
      "Data needs cleaning and modification.\n"
     ]
    }
   ],
   "source": [
    "# Conclusions\n",
    "print(\"\\n### Conclusions ###\")\n",
    "if duplicate_rows > 0 or missing_values.sum() > 0:\n",
    "    print(\"Data needs cleaning and modification.\")\n",
    "else:\n",
    "    print(\"Data appears usable.\")"
   ]
  },
  {
   "cell_type": "markdown",
   "id": "abab9e6d-18cc-4863-b980-3e52f581763a",
   "metadata": {},
   "source": [
    "# 4. Storytelling With Data graph"
   ]
  },
  {
   "cell_type": "markdown",
   "id": "1911148d-9df6-4b33-a875-8c96408ec834",
   "metadata": {},
   "source": [
    "Just like last week: choose any graph in the Introduction of Storytelling With Data. Use matplotlib to reproduce it in a rough way. I don't expect you to spend an enormous amount of time on this; I understand that you likely will not have time to re-create every feature of the graph. However, if you're excited about learning to use matplotlib, this is a good way to do that. You don't have to duplicate the exact values on the graph; just the same rough shape will be enough.  If you don't feel comfortable using matplotlib yet, do the best you can and write down what you tried or what Google searches you did to find the answers."
   ]
  },
  {
   "cell_type": "code",
   "execution_count": 24,
   "id": "8b2888f9-3700-45ab-9829-6a5372106f9f",
   "metadata": {},
   "outputs": [
    {
     "data": {
      "image/png": "[encoded data removed]",
      "text/plain": [
       "<Figure size 1000x500 with 1 Axes>"
      ]
     },
     "metadata": {},
     "output_type": "display_data"
    }
   ],
   "source": [
    "import matplotlib.pyplot as plt\n",
    "import numpy as np\n",
    "\n",
    "# Data for the first graph (Ticket Trend)\n",
    "months = [\"Jan\", \"Feb\", \"Mar\", \"Apr\", \"May\", \"Jun\", \"Jul\", \"Aug\", \"Sep\", \"Oct\", \"Nov\", \"Dec\"]\n",
    "received = [160, 184, 241, 149, 180, 150, 202, 156, 160, 139, 149, 177]\n",
    "processed = [160, 184, 237, 148, 161, 132, 123, 156, 26, 104, 149, 40]\n",
    "\n",
    "# Plot the first graph\n",
    "fig, ax = plt.subplots(figsize=(10, 5))\n",
    "width = 0.4\n",
    "x = np.arange(len(months))\n",
    "\n",
    "bars1 = ax.bar(x - width/2, received, width, label=\"Received\", color=\"blue\")\n",
    "bars2 = ax.bar(x + width/2, processed, width, label=\"Processed\", color=\"red\")\n",
    "\n",
    "ax.set_xticks(x)\n",
    "ax.set_xticklabels(months)\n",
    "ax.set_ylabel(\"Ticket Volume\")\n",
    "ax.set_title(\"Ticket Trend\")\n",
    "ax.legend()\n",
    "\n",
    "# Add labels above bars\n",
    "for bar in bars1:\n",
    "    ax.text(bar.get_x() + bar.get_width()/2, bar.get_height(), str(bar.get_height()), \n",
    "            ha='center', va='bottom', fontsize=8, fontweight='bold', color='black')\n",
    "\n",
    "for bar in bars2:\n",
    "    ax.text(bar.get_x() + bar.get_width()/2, bar.get_height(), str(bar.get_height()), \n",
    "            ha='center', va='bottom', fontsize=8, fontweight='bold', color='black')\n",
    "\n",
    "plt.show()\n"
   ]
  },
  {
   "cell_type": "code",
   "execution_count": 25,
   "id": "db62d7c7",
   "metadata": {},
   "outputs": [
    {
     "data": {
      "image/png": "[encoded data removed]",
      "text/plain": [
       "<Figure size 1000x500 with 1 Axes>"
      ]
     },
     "metadata": {},
     "output_type": "display_data"
    }
   ],
   "source": [
    "\n",
    "# Data for the second graph (Ticket Volume Over Time)\n",
    "received_2014 = [155, 175, 245, 150, 160, 155, 130, 202, 160, 139, 149, 177]\n",
    "processed_2014 = [155, 175, 245, 150, 160, 145, 125, 156, 126, 104, 124, 140]\n",
    "\n",
    "# Plot the second graph\n",
    "fig, ax = plt.subplots(figsize=(10, 5))\n",
    "\n",
    "ax.plot(months, received_2014, marker='o', linestyle='-', color='blue', label=\"Received\")\n",
    "ax.plot(months, processed_2014, marker='o', linestyle='-', color='red', label=\"Processed\")\n",
    "\n",
    "ax.set_ylabel(\"Ticket Volume\")\n",
    "ax.set_title(\"Ticket Volume Over Time\")\n",
    "ax.legend()\n",
    "\n",
    "# Add labels above points\n",
    "for i, txt in enumerate(received_2014):\n",
    "    ax.text(months[i], received_2014[i] + 5, str(txt), ha='center', fontsize=10, fontweight='bold', color='black')\n",
    "\n",
    "for i, txt in enumerate(processed_2014):\n",
    "    ax.text(months[i], processed_2014[i] + 5, str(txt), ha='center', fontsize=10, fontweight='bold', color='black')\n",
    "\n",
    "# Add annotation about employees quitting\n",
    "ax.annotate(\"2 employees quit in May\", xy=(\"May\", 180), xytext=(\"Feb\", 275),\n",
    "            arrowprops=dict(facecolor='black', arrowstyle=\"->\"))\n",
    "\n",
    "ax.set_ylim(0, 300)\n",
    "\n",
    "plt.axvline(x= 4, color='grey', linestyle='-')\n",
    "\n",
    "plt.show()\n"
   ]
  },
  {
   "cell_type": "code",
   "execution_count": null,
   "id": "a2e60fc5",
   "metadata": {},
   "outputs": [],
   "source": []
  }
 ],
 "metadata": {
  "kernelspec": {
   "display_name": "Python 3",
   "language": "python",
   "name": "python3"
  },
  "language_info": {
   "codemirror_mode": {
    "name": "ipython",
    "version": 3
   },
   "file_extension": ".py",
   "mimetype": "text/x-python",
   "name": "python",
   "nbconvert_exporter": "python",
   "pygments_lexer": "ipython3",
   "version": "3.12.1"
  }
 },
 "nbformat": 4,
 "nbformat_minor": 5
}
